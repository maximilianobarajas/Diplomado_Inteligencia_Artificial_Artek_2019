{
  "nbformat": 4,
  "nbformat_minor": 0,
  "metadata": {
    "colab": {
      "provenance": []
    },
    "kernelspec": {
      "name": "python3",
      "display_name": "Python 3"
    }
  },
  "cells": [
    {
      "cell_type": "code",
      "metadata": {
        "id": "X1Xgr5ref161"
      },
      "source": [
        "def binarioAdecimal(x):\n",
        " bits = list(str(x))\n",
        " decimal = 0\n",
        " contador = 0\n",
        "\n",
        " for i in reversed(bits):\n",
        "    decimal += 2**contador * int(i)\n",
        "    contador+=1\n",
        " return(decimal)"
      ],
      "execution_count": null,
      "outputs": []
    },
    {
      "cell_type": "code",
      "metadata": {
        "colab": {
          "base_uri": "https://localhost:8080/"
        },
        "id": "ohvZR_VNujPm",
        "outputId": "4dff5eff-fb68-46f0-99fd-ff8306f5e60f"
      },
      "source": [
        "import random\n",
        "poblacion_tam = 100\n",
        "genes = \"01\"\n",
        "objetivo = input(\"introduce en binario el objetivo: \")"
      ],
      "execution_count": null,
      "outputs": [
        {
          "output_type": "stream",
          "text": [
            "introduce en binario el objetivo: 1100101010101\n"
          ],
          "name": "stdout"
        }
      ]
    },
    {
      "cell_type": "code",
      "metadata": {
        "id": "SJYJaNnbdIe2"
      },
      "source": [
        "class Gas(object):\n",
        "  def __init__(self,cromosoma):\n",
        "    self.cromosoma=cromosoma\n",
        "    self.fitness= self.cal_fitness()\n",
        "  @classmethod\n",
        "  def mutated_genes(self):\n",
        "    global genes #variable global\n",
        "    gene=random.choice(genes)\n",
        "    return gene\n",
        "  @classmethod\n",
        "  def genoma(self):\n",
        "    global objetivo\n",
        "    gnoma_len = len(objetivo)\n",
        "    return [self.mutated_genes() for i in range(gnoma_len)]\n",
        "  def cruce(self, par2):\n",
        "    hijo = []\n",
        "    for gp1, gp2 in zip(self.cromosoma,par2.cromosoma):\n",
        "      prob=random.random()\n",
        "      if prob < 0.5:\n",
        "        hijo.append(gp1)\n",
        "      elif prob < 0.9:\n",
        "        hijo.append(gp2)\n",
        "      else:\n",
        "        hijo.append(self.mutated_genes())\n",
        "    return Gas(hijo)\n",
        "  def cal_fitness(self):\n",
        "    global objetivo\n",
        "    fitness= 0\n",
        "    for gs, gt in zip(self.cromosoma,objetivo):\n",
        "      if gs != gt:\n",
        "        fitness+=1\n",
        "    return fitness"
      ],
      "execution_count": null,
      "outputs": []
    },
    {
      "cell_type": "code",
      "metadata": {
        "id": "i13pD5VKdLVW"
      },
      "source": [
        "def main():\n",
        "  global poblacion_tam\n",
        "  generacion = 1\n",
        "  poblacion=[]\n",
        "  llego= False\n",
        "  for i in range (poblacion_tam):\n",
        "    gnoma =  Gas.genoma()\n",
        "    poblacion.append(Gas(gnoma))\n",
        "  while not llego:\n",
        "   poblacion = sorted(poblacion,key = lambda x:x.fitness)\n",
        "   if poblacion[0].fitness == 0:\n",
        "     print(\"Generación: {} Número en binario: {} Fitness: {}\".format(generacion, \"\".join(poblacion[0].cromosoma),poblacion[0].fitness))\n",
        "     llego = True \n",
        "     break\n",
        "   nueva_generacion = []\n",
        "   s = int((10*poblacion_tam)/100)\n",
        "   nueva_generacion.extend(poblacion[:s])\n",
        "   s = int((90*poblacion_tam)/100)\n",
        "   for i in range (s):\n",
        "     padre1 = random.choice(poblacion[:50])\n",
        "     padre2 = random.choice(poblacion[:50])\n",
        "     hijo =padre1.cruce(padre2)\n",
        "     nueva_generacion.append(hijo)\n",
        "   poblacion = nueva_generacion\n",
        "   print(\"Generación: {} Número en binario: {} Fitness: {}\".format(generacion, \"\".join(poblacion[0].cromosoma),poblacion[0].fitness))\n",
        "   generacion +=1"
      ],
      "execution_count": null,
      "outputs": []
    },
    {
      "cell_type": "code",
      "metadata": {
        "colab": {
          "base_uri": "https://localhost:8080/"
        },
        "id": "Nh2ZZ3Q5kW6S",
        "outputId": "5d8062b0-b083-4b71-8434-c43ff611a668"
      },
      "source": [
        "main()"
      ],
      "execution_count": null,
      "outputs": [
        {
          "output_type": "stream",
          "text": [
            "Generación: 1 Número en binario: 1100100111101 Fitness: 3\n",
            "Generación: 2 Número en binario: 1100100010101 Fitness: 1\n",
            "Generación: 3 Número en binario: 1100100010101 Fitness: 1\n",
            "Generación: 4 Número en binario: 1100101010101 Fitness: 0\n"
          ],
          "name": "stdout"
        }
      ]
    }
  ]
}