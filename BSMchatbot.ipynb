{
  "nbformat": 4,
  "nbformat_minor": 0,
  "metadata": {
    "colab": {
      "provenance": [],
      "collapsed_sections": []
    },
    "kernelspec": {
      "name": "python3",
      "display_name": "Python 3"
    }
  },
  "cells": [
    {
      "cell_type": "code",
      "metadata": {
        "id": "mvyEYbWbAGcf",
        "colab": {
          "base_uri": "https://localhost:8080/"
        },
        "outputId": "f8b2469b-d5cb-4532-936b-97ce02e3f2fc"
      },
      "source": [
        "import random\n",
        "import nltk\n",
        "import numpy as np\n",
        "import string\n",
        "from nltk.stem import WordNetLemmatizer\n",
        "from nltk.corpus import stopwords\n",
        "nltk.download('stopwords')\n",
        "nltk.download('punkt')\n",
        "nltk.download('wordnet')\n",
        "import warnings\n",
        "from sklearn.feature_extraction.text import TfidfVectorizer\n",
        "from sklearn.metrics.pairwise import cosine_similarity\n",
        "warnings.filterwarnings('ignore')\n",
        "chat = open('respuestas.txt',encoding='utf8', errors='ignore')\n",
        "bc = chat.read().lower()\n",
        "st = nltk.sent_tokenize(bc)\n",
        "wt = nltk.word_tokenize(bc,'spanish')\n",
        "print(st)"
      ],
      "execution_count": null,
      "outputs": [
        {
          "output_type": "stream",
          "text": [
            "[nltk_data] Downloading package stopwords to /root/nltk_data...\n",
            "[nltk_data]   Package stopwords is already up-to-date!\n",
            "[nltk_data] Downloading package punkt to /root/nltk_data...\n",
            "[nltk_data]   Package punkt is already up-to-date!\n",
            "[nltk_data] Downloading package wordnet to /root/nltk_data...\n",
            "[nltk_data]   Package wordnet is already up-to-date!\n",
            "['cualquier persona que realice una actividad económica de manera independiente requiere de un contador.', 'se necesita un contador para tener informacion financiera oportuna, precisa y confiable de la actividad económica que se realice\\nel servicio contable no es caro, es valioso\\nun contador puede asesorar en el area fiscal, financiera y la realización de auditorias\\natendemos requerimientos\\natendemos revisiones electrónicas\\nno atendemos casos laborales\\nrealizamos asesorias fiscales, financiera, contable y de auditoria\\nel servicio por ahora es a distancia \\npagar un contador no te libera de pagar impuestos\\nel servicio contable se centra en la generación de informacion financiera y fiscal.', 'la información financiera sirve para conocer el estatus de mi empresa, poder solicitar un crédito, participar en licitaciones, planear estrategias de venta y como empresa en general.', 'la información fiscal sirve para mantenerse al corriente con obligaciones fiscales.', 'un estado financiero es un informe resumido sobre los fondos de las empresas y la situación en la que se encuentran.', 'la auditoria es la revisión y verificación de los documentos contables como una herramienta útil para reforzar la información financiera.', 'el contador no tiene la responsabilidad de pagar impuestos del cliente, sino de calcularlos y generar la información que lo sustentan.', 'se requiere un contador para generar una nómina.', 'la contabilidad de costos sirve para determinar el precio de tu producto o servicio, el inventario de tu negocio entre otros.', 'puedes detectar un fraude en tu empresa a través de informes financieros se detectan irregularidades y la buena o mala gestión de los recursos.', 'los activos son las propiedades y/o derechos que tiene una empresa.', 'los pasivos son deudas u obligaciones que tiene una empresa.', 'los impuestos son tributos que tiene que pagar cada persona y empresa al estado para costear las necesidades colectivas.', 'en méxico se paga el iva , isr al igual que ieps (impuestos federales).', 'te puede ayudar un contador para dar de alta trabajadores en el imss.', 'un abono es una partida contable que se registra en el haber de la contabilidad de una empresa.', 'también se entiende como nota de abono de una factura.', 'un accionista es una persona física o jurídica que posee acciones de una empresa.', 'dichas acciones conllevan derechos económicos y de gestión sobre la sociedad.', 'una acción es una de las partes en las que se divide el capital dentro de una sociedad anónima.', 'una acción al portador es no nominal, es decir, es una acción que no lleva el nombre del titular en la misma.', 'cuando el valor de una acción ha sido totalmente desembolsado decimos que se trata de una acción liberada.', 'se emiten por tanto con reservas libres de la sociedad significa que el accionista no tiene que desembolsar nada.', 'una acción nominativa es una acción que se emite a nombre del titular de la misma.', 'las acciones rescatables siguen siendo acciones normales, sin embargo, a diferencia de estas, no tienen carácter permanente.', 'es decir, cuentan con un límite temporal definido.', 'la acción sin voto consiste en un tipo de acción en la que el titular no tiene derecho a participar en la gestión de la empresa, pero a cambio tiene derecho a disfrutar de dividendos.', 'conocemos como acreedor a la persona (bien física o bien jurídica), a quien se le debe el pago por un bien o un servicio.', 'un activo es un bien o derecho que la empresa posee.', 'el activo circulante son bienes y derechos líquidos de una empresa.', 'es decir, es el dinero que una empresa tiene para disponer en cualquier momento.', 'el activo despreciable es un activo fijo que se somete a depreciación.', 'un activo fijo es un bien de la empresa que no puede convertirse en líquidez a corto plazo.', 'el activo financiero es un derecho por el que el emisor de éste se compromete a satisfacer pagos en el futuro al comprador del derecho.', 'un activo intangible es definido por su propio nombre, es decir, no es tangible, no puede ser percibido físicamente.', 'el activo intangible es, por tanto, de naturaleza inmaterial.', 'por ejemplo, el valor de una marca, que no puede ser medido de manera física.', 'el activo no corriente mantenido para la venta es un activo fijo cuyo valor se recupera mediante la venta en lugar de por el uso continuado, siempre y cuando reúna las condiciones para su venta.', 'la actualización de balance consiste en revalorizar los activos de una empresa según el valor de la inflación.', 'un adeudo por domiciliación o domiciliación bancaria es un recibo (o factura) que el banco carga a un cliente sin que este tenga que intervenir, con previa autorización.', 'el administrador concursal es la persona encargada de gestionar una empresa cuando ésta entra en concurso de acreedores.', 'la aduana es una oficina pública que regula el tráfico internacional de entrada y salida de un país.', 'un anticipo es una cantidad que un cliente paga por adelantado a cuenta de una futura compra.', 'para cobrar una anticipo hay que emitir factura con iva.', 'un asesor fiscal y contable es aquel que ayuda a autónomos y empresas en sus obligaciones fiscales y contables así como en otras relacionadas con la gestión y administración de su actividad.', 'un asiento contable consiste en las anotaciones realizadas con la finalidad de reflejar un hecho o una operación contable.', 'una auditoría es una inspección o verificación de la contabilidad de una empresa o una entidad, realizada por un auditor con el fin de comprobar si sus cuentas reflejan el patrimonio, la situación financiera y los resultados obtenidos por dicha empresa o entidad en un determinado ejercicio.', 'la autocapitalización es una forma de financiación de la empresa a partir de fondos propios para depender menos de fuentes de financiación externa.', 'una autofactura es una factura emitida por el destinatario o un tercero.', 'la autofactura no exime al proveedor de sus obligaciones fiscales.', 'la autofinanciación se compone de aquellos recursos procendentes de la propia actividad de la empresa y que no se han repartido entre los socios o propietarios.', 'la autoliquidación es la declaración de impuestos y cálculo del importe a pagar.', 'un aval es aquel contrato donde aparece una tercera persona que hace de garantía para el pago de una obligación si la persona (deudor) no pudiera hacerse cargo.', 'el año fiscal es el periodo (generalmente de 12 meses) de referencia para la realización de operaciones comerciales y el devengo de obligaciones fiscales de autónomos y empresarios.', 'la baja laboral o incapacidad temporal se produce ante un caso de enfermedad o accidente, ya sea en el ámbito del trabajo o no.', 'se entiende por tanto que el trabajador requiere de asistencia sanitaria.', 'el balance de apertura fija la situación desde la que parte la empresa para seguir con su actividad al comienzo del siguiente ejercicio.', 'el balance de situación es una imagen fotográfica de la empresa en un momento determinado\\nel balance de sumas y saldos muestra los saldos de todas las cuentas para el periodo deseado.', 'la balanza comercial consiste en los pagos y cobros que se derivan del comercio de mercancías\\nla balanza de pagos es la relación que se establece entre el dinero que un país en concreto gasta en otros países y la cantidad que otros países gastan en ese país.', 'la base de cotización de autónomos es la remuneración mensual de referencia que un autónomo elige para el pago de sus cotizaciones a la seguridad social.', 'la base fiscal es el importe atribuido a los activos, pasivos e instrumentos de patrimonio de acuerdo con la legislación fiscal aplicable.', 'este importe atribuido será para fines fiscales.', 'la base imponible en una factura es la cantidad sobre la que se calculan los impuestos.', 'la base reguladora es el baremo de referencia a partir del cual la seguridad social calcula las prestaciones de los trabajadores.', 'el beneficio fiscal consiste en un serie de ventajas fiscales que determinadas empresas o autónomos reciben por parte del legislador para reducir su carga impositiva.', 'el ejercicio contable es el periodo que dista entre dos balances, esto es, recoge el ciclo en el que perdura una empresa y su actividad.', 'la elasticidad precio de la demanda (epd) mide cuánto varía la cantidad demandada de un bien cuando su precio varía.', 'un embargo es una retención de bienes por mandato de la ley.', 'el estado de cambios del patrimonio neto forma parte de los documentos que comprenden las cuentas anuales de una empresa.', 'la evasión fiscal es una acción fraudulenta se busca evitar el pago de un tributo.', 'la exención fiscal es un elemento fiscal que libra de pagar un impuesto.', 'una factura es un documento de índole comercial que indica la compraventa de un bien o servicio.', 'tiene validez legal y fiscal.', 'una factura alfanumérica es aquella cuya numeración está compuesta por números, letras y otros signos.', 'la factura con retención es una factura a la que se le aplica la retención a cuenta de irpf.', 'en otros sectores, como la construcción, se aplica en concepto de garantía.', 'la factura consular es un documento de carácter extraordinario emitido por el vendedor de una mercancía para estipular el tipo de arancel a aplicar al producto.', 'por ello, se requiere en ocasiones de compraventa internacional.', 'una factura de proveedor es el justificante de una transacción entre un proveedor y un cliente.', 'la factura electrónica es una revolución frente a la factura tradicional en papel y consiste en la transmisión de las facturas o demás comprobantes entre emisor y receptor por medios de comunicación electrónicos.', 'una factura multidivisa es un documento que señala la compraventa de un bien o servicio en una moneda extranjera.', 'una factura proforma es una \"factura borrador\" que se envía a un comprador con los detalles que posteriormente incluirá la factura para informar de estos al cliente.', 'una factura recapitulativa (también puede llamarse factura agrupada o resumen) reúne diferentes operaciones de compra (o venta) de un mismo cliente.', 'la factura rectificativa es un documento que se emite para corregir una factura, hacer una devolución o recuperar el iva de una factura impagada.', 'una factura recurrente es aquella que se envía a un mismo cliente repetidas veces durante un periodo de tiempo determinado.', 'la factura simplificada es un tipo de factura admitida por la agencia tributaria bajo distintas circunstancias.', 'actualmente sustituye a los tiques de compra.', 'outsourcing es la subcontratación de terceros para hacerse cargo de ciertas actividades complementarias a la actividad principal.']\n"
          ],
          "name": "stdout"
        }
      ]
    },
    {
      "cell_type": "code",
      "metadata": {
        "colab": {
          "base_uri": "https://localhost:8080/"
        },
        "id": "2X9IZfW6I-vi",
        "outputId": "a97e031a-6901-4af8-956d-e3909fc46d8f"
      },
      "source": [
        "print(st)"
      ],
      "execution_count": null,
      "outputs": [
        {
          "output_type": "stream",
          "text": [
            "['cualquier persona que realice una actividad económica de manera independiente requiere de un contador.', 'se necesita un contador para tener informacion financiera oportuna, precisa y confiable de la actividad económica que se realice\\nel servicio contable no es caro, es valioso\\nun contador puede asesorar en el area fiscal, financiera y la realización de auditorias\\natendemos requerimientos\\natendemos revisiones electrónicas\\nno atendemos casos laborales\\nrealizamos asesorias fiscales, financiera, contable y de auditoria\\nel servicio por ahora es a distancia \\npagar un contador no te libera de pagar impuestos\\nel servicio contable se centra en la generación de informacion financiera y fiscal.', 'la información financiera sirve para conocer el estatus de mi empresa, poder solicitar un crédito, participar en licitaciones, planear estrategias de venta y como empresa en general.', 'la información fiscal sirve para mantenerse al corriente con obligaciones fiscales.', 'un estado financiero es un informe resumido sobre los fondos de las empresas y la situación en la que se encuentran.', 'la auditoria es la revisión y verificación de los documentos contables como una herramienta útil para reforzar la información financiera.', 'el contador no tiene la responsabilidad de pagar impuestos del cliente, sino de calcularlos y generar la información que lo sustentan.', 'se requiere un contador para generar una nómina.', 'la contabilidad de costos sirve para determinar el precio de tu producto o servicio, el inventario de tu negocio entre otros.', 'puedes detectar un fraude en tu empresa a través de informes financieros se detectan irregularidades y la buena o mala gestión de los recursos.', 'los activos son las propiedades y/o derechos que tiene una empresa.', 'los pasivos son deudas u obligaciones que tiene una empresa.', 'los impuestos son tributos que tiene que pagar cada persona y empresa al estado para costear las necesidades colectivas.', 'en méxico se paga el iva , isr al igual que ieps (impuestos federales).', 'te puede ayudar un contador para dar de alta trabajadores en el imss.', 'un abono es una partida contable que se registra en el haber de la contabilidad de una empresa.', 'también se entiende como nota de abono de una factura.', 'un accionista es una persona física o jurídica que posee acciones de una empresa.', 'dichas acciones conllevan derechos económicos y de gestión sobre la sociedad.', 'una acción es una de las partes en las que se divide el capital dentro de una sociedad anónima.', 'una acción al portador es no nominal, es decir, es una acción que no lleva el nombre del titular en la misma.', 'cuando el valor de una acción ha sido totalmente desembolsado decimos que se trata de una acción liberada.', 'se emiten por tanto con reservas libres de la sociedad significa que el accionista no tiene que desembolsar nada.', 'una acción nominativa es una acción que se emite a nombre del titular de la misma.', 'las acciones rescatables siguen siendo acciones normales, sin embargo, a diferencia de estas, no tienen carácter permanente.', 'es decir, cuentan con un límite temporal definido.', 'la acción sin voto consiste en un tipo de acción en la que el titular no tiene derecho a participar en la gestión de la empresa, pero a cambio tiene derecho a disfrutar de dividendos.', 'conocemos como acreedor a la persona (bien física o bien jurídica), a quien se le debe el pago por un bien o un servicio.', 'un activo es un bien o derecho que la empresa posee.', 'el activo circulante son bienes y derechos líquidos de una empresa.', 'es decir, es el dinero que una empresa tiene para disponer en cualquier momento.', 'el activo despreciable es un activo fijo que se somete a depreciación.', 'un activo fijo es un bien de la empresa que no puede convertirse en líquidez a corto plazo.', 'el activo financiero es un derecho por el que el emisor de éste se compromete a satisfacer pagos en el futuro al comprador del derecho.', 'un activo intangible es definido por su propio nombre, es decir, no es tangible, no puede ser percibido físicamente.', 'el activo intangible es, por tanto, de naturaleza inmaterial.', 'por ejemplo, el valor de una marca, que no puede ser medido de manera física.', 'el activo no corriente mantenido para la venta es un activo fijo cuyo valor se recupera mediante la venta en lugar de por el uso continuado, siempre y cuando reúna las condiciones para su venta.', 'la actualización de balance consiste en revalorizar los activos de una empresa según el valor de la inflación.', 'un adeudo por domiciliación o domiciliación bancaria es un recibo (o factura) que el banco carga a un cliente sin que este tenga que intervenir, con previa autorización.', 'el administrador concursal es la persona encargada de gestionar una empresa cuando ésta entra en concurso de acreedores.', 'la aduana es una oficina pública que regula el tráfico internacional de entrada y salida de un país.', 'un anticipo es una cantidad que un cliente paga por adelantado a cuenta de una futura compra.', 'para cobrar una anticipo hay que emitir factura con iva.', 'un asesor fiscal y contable es aquel que ayuda a autónomos y empresas en sus obligaciones fiscales y contables así como en otras relacionadas con la gestión y administración de su actividad.', 'un asiento contable consiste en las anotaciones realizadas con la finalidad de reflejar un hecho o una operación contable.', 'una auditoría es una inspección o verificación de la contabilidad de una empresa o una entidad, realizada por un auditor con el fin de comprobar si sus cuentas reflejan el patrimonio, la situación financiera y los resultados obtenidos por dicha empresa o entidad en un determinado ejercicio.', 'la autocapitalización es una forma de financiación de la empresa a partir de fondos propios para depender menos de fuentes de financiación externa.', 'una autofactura es una factura emitida por el destinatario o un tercero.', 'la autofactura no exime al proveedor de sus obligaciones fiscales.', 'la autofinanciación se compone de aquellos recursos procendentes de la propia actividad de la empresa y que no se han repartido entre los socios o propietarios.', 'la autoliquidación es la declaración de impuestos y cálculo del importe a pagar.', 'un aval es aquel contrato donde aparece una tercera persona que hace de garantía para el pago de una obligación si la persona (deudor) no pudiera hacerse cargo.', 'el año fiscal es el periodo (generalmente de 12 meses) de referencia para la realización de operaciones comerciales y el devengo de obligaciones fiscales de autónomos y empresarios.', 'la baja laboral o incapacidad temporal se produce ante un caso de enfermedad o accidente, ya sea en el ámbito del trabajo o no.', 'se entiende por tanto que el trabajador requiere de asistencia sanitaria.', 'el balance de apertura fija la situación desde la que parte la empresa para seguir con su actividad al comienzo del siguiente ejercicio.', 'el balance de situación es una imagen fotográfica de la empresa en un momento determinado\\nel balance de sumas y saldos muestra los saldos de todas las cuentas para el periodo deseado.', 'la balanza comercial consiste en los pagos y cobros que se derivan del comercio de mercancías\\nla balanza de pagos es la relación que se establece entre el dinero que un país en concreto gasta en otros países y la cantidad que otros países gastan en ese país.', 'la base de cotización de autónomos es la remuneración mensual de referencia que un autónomo elige para el pago de sus cotizaciones a la seguridad social.', 'la base fiscal es el importe atribuido a los activos, pasivos e instrumentos de patrimonio de acuerdo con la legislación fiscal aplicable.', 'este importe atribuido será para fines fiscales.', 'la base imponible en una factura es la cantidad sobre la que se calculan los impuestos.', 'la base reguladora es el baremo de referencia a partir del cual la seguridad social calcula las prestaciones de los trabajadores.', 'el beneficio fiscal consiste en un serie de ventajas fiscales que determinadas empresas o autónomos reciben por parte del legislador para reducir su carga impositiva.', 'el ejercicio contable es el periodo que dista entre dos balances, esto es, recoge el ciclo en el que perdura una empresa y su actividad.', 'la elasticidad precio de la demanda (epd) mide cuánto varía la cantidad demandada de un bien cuando su precio varía.', 'un embargo es una retención de bienes por mandato de la ley.', 'el estado de cambios del patrimonio neto forma parte de los documentos que comprenden las cuentas anuales de una empresa.', 'la evasión fiscal es una acción fraudulenta se busca evitar el pago de un tributo.', 'la exención fiscal es un elemento fiscal que libra de pagar un impuesto.', 'una factura es un documento de índole comercial que indica la compraventa de un bien o servicio.', 'tiene validez legal y fiscal.', 'una factura alfanumérica es aquella cuya numeración está compuesta por números, letras y otros signos.', 'la factura con retención es una factura a la que se le aplica la retención a cuenta de irpf.', 'en otros sectores, como la construcción, se aplica en concepto de garantía.', 'la factura consular es un documento de carácter extraordinario emitido por el vendedor de una mercancía para estipular el tipo de arancel a aplicar al producto.', 'por ello, se requiere en ocasiones de compraventa internacional.', 'una factura de proveedor es el justificante de una transacción entre un proveedor y un cliente.', 'la factura electrónica es una revolución frente a la factura tradicional en papel y consiste en la transmisión de las facturas o demás comprobantes entre emisor y receptor por medios de comunicación electrónicos.', 'una factura multidivisa es un documento que señala la compraventa de un bien o servicio en una moneda extranjera.', 'una factura proforma es una \"factura borrador\" que se envía a un comprador con los detalles que posteriormente incluirá la factura para informar de estos al cliente.', 'una factura recapitulativa (también puede llamarse factura agrupada o resumen) reúne diferentes operaciones de compra (o venta) de un mismo cliente.', 'la factura rectificativa es un documento que se emite para corregir una factura, hacer una devolución o recuperar el iva de una factura impagada.', 'una factura recurrente es aquella que se envía a un mismo cliente repetidas veces durante un periodo de tiempo determinado.', 'la factura simplificada es un tipo de factura admitida por la agencia tributaria bajo distintas circunstancias.', 'actualmente sustituye a los tiques de compra.', 'outsourcing es la subcontratación de terceros para hacerse cargo de ciertas actividades complementarias a la actividad principal.']\n"
          ],
          "name": "stdout"
        }
      ]
    },
    {
      "cell_type": "code",
      "metadata": {
        "id": "NZPXGE0iFYqX"
      },
      "source": [
        "lema = WordNetLemmatizer()\n",
        "def lemmaTokens(tokens):\n",
        "  return [lema.lemmatize(token) for token in tokens]\n",
        "rem_punt = dict((ord(punt),None) for punt in string.punctuation)\n",
        "def lemaNorm(texto):\n",
        "  return lemmaTokens(nltk.word_tokenize(texto.lower().translate(rem_punt)))"
      ],
      "execution_count": null,
      "outputs": []
    },
    {
      "cell_type": "code",
      "metadata": {
        "id": "8XgJjLHo5ddQ"
      },
      "source": [
        "def respuesta(usuario):\n",
        "  chat_resp = ''\n",
        "  st.append(usuario)  \n",
        "  stopEsp = set(stopwords.words('spanish'))\n",
        "  Tfid = TfidfVectorizer(tokenizer=lemaNorm, stop_words=stopEsp)\n",
        "  FeatMatrix = Tfid.fit_transform(st)\n",
        "  values = cosine_similarity(FeatMatrix[-1],FeatMatrix) \n",
        "  ind = values.argsort()[0][-2]  \n",
        "  flat = values.flatten()  \n",
        "  flat.sort()     \n",
        "  f = flat[-2]\n",
        "  if (f < 0.2):\n",
        "    chat_resp = chat_resp + \"no puedo hablar contigo de ello, si aun requieres ayuda comunicate con nosotros por medio de atnaclientesbsm@gmail.com\"\n",
        "    return chat_resp\n",
        "  else:\n",
        "    chat_resp = chat_resp +  st[ind]\n",
        "    return chat_resp"
      ],
      "execution_count": null,
      "outputs": []
    },
    {
      "cell_type": "code",
      "metadata": {
        "colab": {
          "base_uri": "https://localhost:8080/"
        },
        "id": "oUeam-ZpAweO",
        "outputId": "4fca104d-ea56-4a05-8689-b5783784d009"
      },
      "source": [
        "print(\"Bienvenido al chatbot de BSM, ¿Qué necesitas saber?\")\n",
        "print(\"si requieres terminar esta conversación solo escribe <<salir>>\")\n",
        "k = True\n",
        "while (k == True):\n",
        "  usuario = input()\n",
        "  usuario = usuario.lower()\n",
        "  if (usuario == \"salir\"):\n",
        "    k = False\n",
        "    print(\"Fue un placer atenderte\")\n",
        "  else:\n",
        "    print(respuesta(usuario))"
      ],
      "execution_count": null,
      "outputs": [
        {
          "output_type": "stream",
          "text": [
            "Bienvenido al chatbot de BSM, ¿Qué necesitas saber?\n",
            "si requieres terminar esta conversación solo escribe <<salir>>\n",
            "que es una factura multidivisa \n",
            "una factura multidivisa es un documento que señala la compraventa de un bien o servicio en una moneda extranjera.\n",
            "que es el activo financiero\n",
            "el activo despreciable es un activo fijo que se somete a depreciación.\n",
            "que es un adeudo por domiciliación \n",
            "un adeudo por domiciliación o domiciliación bancaria es un recibo (o factura) que el banco carga a un cliente sin que este tenga que intervenir, con previa autorización.\n",
            "atienden casos laborales?\n",
            "no puedo hablar contigo de ello, si aun requieres ayuda comunicate con nosotros por medio de atnaclientesbsm@gmail.com\n",
            "hacen revisiones electrónicas?\n",
            "no puedo hablar contigo de ello, si aun requieres ayuda comunicate con nosotros por medio de atnaclientesbsm@gmail.com\n",
            "que es un activo intangible?\n",
            "el activo intangible es, por tanto, de naturaleza inmaterial.\n",
            "que es un aval \n",
            "un aval es aquel contrato donde aparece una tercera persona que hace de garantía para el pago de una obligación si la persona (deudor) no pudiera hacerse cargo.\n",
            "que es el balance de sumas y saldos\n",
            "el balance de situación es una imagen fotográfica de la empresa en un momento determinado\n",
            "el balance de sumas y saldos muestra los saldos de todas las cuentas para el periodo deseado.\n",
            "salir\n",
            "Fue un placer atenderte\n"
          ],
          "name": "stdout"
        }
      ]
    }
  ]
}