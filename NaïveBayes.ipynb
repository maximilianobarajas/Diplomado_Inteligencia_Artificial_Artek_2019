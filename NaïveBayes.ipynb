{
  "nbformat": 4,
  "nbformat_minor": 0,
  "metadata": {
    "colab": {
      "provenance": [],
      "collapsed_sections": []
    },
    "kernelspec": {
      "name": "python3",
      "display_name": "Python 3"
    },
    "language_info": {
      "name": "python"
    }
  },
  "cells": [
    {
      "cell_type": "code",
      "execution_count": 3,
      "metadata": {
        "colab": {
          "base_uri": "https://localhost:8080/"
        },
        "id": "o_VHGWUPt-Ki",
        "outputId": "d892739b-4325-420f-da5e-1f4e05bf8bde"
      },
      "outputs": [
        {
          "output_type": "stream",
          "name": "stdout",
          "text": [
            "Valor predicho [1]\n",
            "[[0.0011537 0.9988463]]\n"
          ]
        }
      ],
      "source": [
        "import numpy as np\n",
        "import pandas as pd\n",
        "from sklearn.naive_bayes import CategoricalNB\n",
        "from sklearn import preprocessing\n",
        "\n",
        "# Importamos el archivo\n",
        "datos=pd.read_csv('cancerpulmon.csv')\n",
        "# Separamos los datos\n",
        "x1= datos.iloc[:,0]\n",
        "x2= datos.iloc[:,2]\n",
        "x3= datos.iloc[:,3]\n",
        "x4= datos.iloc[:,4]\n",
        "x5= datos.iloc[:,5]\n",
        "x6= datos.iloc[:,6]\n",
        "x7= datos.iloc[:,7]\n",
        "x8= datos.iloc[:,8]\n",
        "x9= datos.iloc[:,9]\n",
        "x10= datos.iloc[:,10]\n",
        "x11= datos.iloc[:,11]\n",
        "x12= datos.iloc[:,12]\n",
        "x13= datos.iloc[:,13]\n",
        "x14= datos.iloc[:,14]\n",
        "#Guardamos las salidas\n",
        "y=datos.iloc[:,15] \n",
        "list(datos.index[:15])\n",
        "\n",
        "#Creamos la encodificación de nuestras variables categóricas\n",
        "le = preprocessing.LabelEncoder()\n",
        "x1= le.fit_transform(x1)\n",
        "x2= le.fit_transform(x2)\n",
        "x3= le.fit_transform(x3)\n",
        "x4= le.fit_transform(x4)\n",
        "x5= le.fit_transform(x5)\n",
        "x6= le.fit_transform(x6)\n",
        "x7= le.fit_transform(x7)\n",
        "x8= le.fit_transform(x8)\n",
        "x9= le.fit_transform(x9)\n",
        "x10= le.fit_transform(x10)\n",
        "x11= le.fit_transform(x11)\n",
        "x12= le.fit_transform(x12)\n",
        "x13= le.fit_transform(x13)\n",
        "x14= le.fit_transform(x14)\n",
        "\n",
        "y=le.fit_transform(y)\n",
        "#Mostramos el dataframe despues de la encodificación\n",
        "X = pd.DataFrame(list(zip(x1,x2,x3,x4,x5,x6,x7,x8,x9,x10,x11,x12,x13,x14)))\n",
        "#Creamos el modelo con su constructor vacio\n",
        "model = CategoricalNB()\n",
        "# Entrenamos el modelo\n",
        "model.fit(X,y)\n",
        "#Imprimimos una predicción, decidimos hacerlo para el primer caso, M,69,1,2,2,1,1,2,1,2,2,2,2,2,2,YES\n",
        "predicted = model.predict([[1 ,  0  , 1  , 1 ,  0  , 0  , 1  , 0   ,1  , 1  , 1 ,  1  , 1 ,  1]]) \n",
        "print(\"Valor predicho\",model.predict([[1 ,  0  , 1  , 1 ,  0  , 0  , 1  , 0   ,1  , 1  , 1 ,  1  , 1 ,  1]]))\n",
        "print(model.predict_proba([[1 ,  0  , 1  , 1 ,  0  , 0  , 1  , 0   ,1  , 1  , 1 ,  1  , 1 ,  1]]))"
      ]
    }
  ]
}