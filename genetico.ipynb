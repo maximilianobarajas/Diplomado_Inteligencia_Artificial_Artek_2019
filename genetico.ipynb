{
  "nbformat": 4,
  "nbformat_minor": 0,
  "metadata": {
    "colab": {
      "provenance": []
    },
    "kernelspec": {
      "name": "python3",
      "display_name": "Python 3"
    }
  },
  "cells": [
    {
      "cell_type": "code",
      "metadata": {
        "id": "16DLekQ0jWAh"
      },
      "source": [
        "class auto:\n",
        "  def __init__ (self,model,colour):\n",
        "    self.modelo = model\n",
        "    self.color = colour \n",
        "  def pitar(self,claxon):\n",
        "    print(claxon)"
      ],
      "execution_count": 1,
      "outputs": []
    },
    {
      "cell_type": "code",
      "metadata": {
        "colab": {
          "base_uri": "https://localhost:8080/"
        },
        "id": "7Qlx86Sbl5vU",
        "outputId": "d188b815-be95-4236-9880-718530b42b8d"
      },
      "source": [
        "civic=auto(2008,\"verde\")\n",
        "civic.modelo\n",
        "civic.color\n",
        "civic.pitar(2)"
      ],
      "execution_count": 2,
      "outputs": [
        {
          "output_type": "stream",
          "name": "stdout",
          "text": [
            "2\n"
          ]
        }
      ]
    },
    {
      "cell_type": "code",
      "metadata": {
        "id": "cUyA9SMxpnL3"
      },
      "source": [
        "class rectangulo():\n",
        "  def __init__(self,base,altura):\n",
        "    self.b=base\n",
        "    self.a=altura\n",
        "    self.area=self.a*self.b\n",
        "    self.perimetro = 2*self.a+2*self.b"
      ],
      "execution_count": 3,
      "outputs": []
    },
    {
      "cell_type": "code",
      "metadata": {
        "colab": {
          "base_uri": "https://localhost:8080/"
        },
        "id": "vj9FZw-_qsag",
        "outputId": "37a17b9e-970d-49b0-9c3d-4f5626db0ddb"
      },
      "source": [
        "R1=rectangulo(8,4)\n",
        "R1.perimetro"
      ],
      "execution_count": 4,
      "outputs": [
        {
          "output_type": "execute_result",
          "data": {
            "text/plain": [
              "24"
            ]
          },
          "metadata": {},
          "execution_count": 4
        }
      ]
    },
    {
      "cell_type": "code",
      "metadata": {
        "id": "dYNh8gDVsbdP"
      },
      "source": [
        "import random\n",
        "poblacion_tam = 100\n",
        "genes = 'abcdefghijklmnñopqrstuvwxyzABCDEFGHIJKLMNÑOPQRSTUVWXYZáéíóú ÁÉÍÓÚ¿?1234567890'\n",
        "objetivo = 'basadísimo' "
      ],
      "execution_count": 5,
      "outputs": []
    },
    {
      "cell_type": "code",
      "metadata": {
        "id": "QSNwgqgEuo7h"
      },
      "source": [
        "class Gas(object):\n",
        "  def __init__(self,cromosoma):\n",
        "    self.cromosoma=cromosoma\n",
        "    self.fitness= self.cal_fitness()\n",
        "  @classmethod\n",
        "  def mutated_genes(self):\n",
        "    global genes #variable global\n",
        "    gene=random.choice(genes)\n",
        "    return gene\n",
        "  @classmethod\n",
        "  def genoma(self):\n",
        "    global objetivo\n",
        "    gnoma_len = len(objetivo)\n",
        "    return [self.mutated_genes() for i in range(gnoma_len)]\n",
        "  def cruce(self, par2):\n",
        "    hijo = []\n",
        "    for gp1, gp2 in zip(self.cromosoma,par2.cromosoma):\n",
        "      prob=random.random()\n",
        "      if prob < 0.5:\n",
        "        hijo.append(gp1)\n",
        "      elif prob < 0.9:\n",
        "        hijo.append(gp2)\n",
        "      else:\n",
        "        hijo.append(self.mutated_genes())\n",
        "    return Gas(hijo)\n",
        "  def cal_fitness(self):\n",
        "    global objetivo\n",
        "    fitness= 0\n",
        "    for gs, gt in zip(self.cromosoma,objetivo):\n",
        "      if gs != gt:\n",
        "        fitness+=1\n",
        "    return fitness"
      ],
      "execution_count": 6,
      "outputs": []
    },
    {
      "cell_type": "code",
      "metadata": {
        "id": "UflPEsJy4cQj"
      },
      "source": [
        "def main():\n",
        "  global poblacion_tam\n",
        "  generacion = 1\n",
        "  poblacion=[]\n",
        "  llego= False\n",
        "  for i in range (poblacion_tam):\n",
        "    gnoma =  Gas.genoma()\n",
        "    poblacion.append(Gas(gnoma))\n",
        "  while not llego:\n",
        "   poblacion = sorted(poblacion,key = lambda x:x.fitness)\n",
        "   if poblacion[0].fitness == 0:\n",
        "    print(\"Generación: {} Frase: {} Fitness: {}\".format(generacion, \"\".join(poblacion[0].cromosoma),poblacion[0].fitness))\n",
        "    llego = True \n",
        "    break\n",
        "   nueva_generacion = []\n",
        "   s = int((10*poblacion_tam)/100)\n",
        "   nueva_generacion.extend(poblacion[:s])\n",
        "   s = int((90*poblacion_tam)/100)\n",
        "   for i in range (s):\n",
        "     padre1 = random.choice(poblacion[:50])\n",
        "     padre2 = random.choice(poblacion[:50])\n",
        "     hijo =padre1.cruce(padre2)\n",
        "     nueva_generacion.append(hijo)\n",
        "   poblacion = nueva_generacion\n",
        "   print(\"Generación: {} Frase: {} Fitness: {}\".format(generacion, \"\".join(poblacion[0].cromosoma),poblacion[0].fitness))\n",
        "   generacion +=1"
      ],
      "execution_count": 7,
      "outputs": []
    },
    {
      "cell_type": "code",
      "metadata": {
        "colab": {
          "base_uri": "https://localhost:8080/"
        },
        "id": "pmvjbSc_fIOi",
        "outputId": "9b93267c-fa3d-43ca-bdd6-dfb3038675c0"
      },
      "source": [
        "main()"
      ],
      "execution_count": 8,
      "outputs": [
        {
          "output_type": "stream",
          "name": "stdout",
          "text": [
            "Generación: 1 Frase: ?áÑúcYsyPs Fitness: 9\n",
            "Generación: 2 Frase: UasGu7vqGQ Fitness: 8\n",
            "Generación: 3 Frase: uasGhsCpmQ Fitness: 7\n",
            "Generación: 4 Frase: uasGhsCpmQ Fitness: 7\n",
            "Generación: 5 Frase: bfsGnIsqYo Fitness: 6\n",
            "Generación: 6 Frase: bfsGnIsiYo Fitness: 5\n",
            "Generación: 7 Frase: bfsGnIsiYo Fitness: 5\n",
            "Generación: 8 Frase: basGI sqmo Fitness: 4\n",
            "Generación: 9 Frase: basZdesqmo Fitness: 3\n",
            "Generación: 10 Frase: basZdesqmo Fitness: 3\n",
            "Generación: 11 Frase: basZdesqmo Fitness: 3\n",
            "Generación: 12 Frase: basZdesqmo Fitness: 3\n",
            "Generación: 13 Frase: basZdesqmo Fitness: 3\n",
            "Generación: 14 Frase: basGdNsimo Fitness: 2\n",
            "Generación: 15 Frase: basGdNsimo Fitness: 2\n",
            "Generación: 16 Frase: basGdNsimo Fitness: 2\n",
            "Generación: 17 Frase: basGdNsimo Fitness: 2\n",
            "Generación: 18 Frase: basGdNsimo Fitness: 2\n",
            "Generación: 19 Frase: basGdNsimo Fitness: 2\n",
            "Generación: 20 Frase: basGdNsimo Fitness: 2\n",
            "Generación: 21 Frase: basGdNsimo Fitness: 2\n",
            "Generación: 22 Frase: basGdNsimo Fitness: 2\n",
            "Generación: 23 Frase: basGdNsimo Fitness: 2\n",
            "Generación: 24 Frase: basGdNsimo Fitness: 2\n",
            "Generación: 25 Frase: basGdNsimo Fitness: 2\n",
            "Generación: 26 Frase: basGdNsimo Fitness: 2\n",
            "Generación: 27 Frase: basGdNsimo Fitness: 2\n",
            "Generación: 28 Frase: basGdNsimo Fitness: 2\n",
            "Generación: 29 Frase: basGdNsimo Fitness: 2\n",
            "Generación: 30 Frase: basGdNsimo Fitness: 2\n",
            "Generación: 31 Frase: basGdNsimo Fitness: 2\n",
            "Generación: 32 Frase: basGdNsimo Fitness: 2\n",
            "Generación: 33 Frase: basGdNsimo Fitness: 2\n",
            "Generación: 34 Frase: basGdNsimo Fitness: 2\n",
            "Generación: 35 Frase: basGdNsimo Fitness: 2\n",
            "Generación: 36 Frase: basGdNsimo Fitness: 2\n",
            "Generación: 37 Frase: basGdNsimo Fitness: 2\n",
            "Generación: 38 Frase: basGdNsimo Fitness: 2\n",
            "Generación: 39 Frase: basGdNsimo Fitness: 2\n",
            "Generación: 40 Frase: basGdNsimo Fitness: 2\n",
            "Generación: 41 Frase: basGdNsimo Fitness: 2\n",
            "Generación: 42 Frase: basGdNsimo Fitness: 2\n",
            "Generación: 43 Frase: basGdNsimo Fitness: 2\n",
            "Generación: 44 Frase: basrdísimo Fitness: 1\n",
            "Generación: 45 Frase: basrdísimo Fitness: 1\n",
            "Generación: 46 Frase: basrdísimo Fitness: 1\n",
            "Generación: 47 Frase: basrdísimo Fitness: 1\n",
            "Generación: 48 Frase: basrdísimo Fitness: 1\n",
            "Generación: 49 Frase: basrdísimo Fitness: 1\n",
            "Generación: 50 Frase: basrdísimo Fitness: 1\n",
            "Generación: 51 Frase: basrdísimo Fitness: 1\n",
            "Generación: 52 Frase: basrdísimo Fitness: 1\n",
            "Generación: 53 Frase: basrdísimo Fitness: 1\n",
            "Generación: 54 Frase: basrdísimo Fitness: 1\n",
            "Generación: 55 Frase: basrdísimo Fitness: 1\n",
            "Generación: 56 Frase: basrdísimo Fitness: 1\n",
            "Generación: 57 Frase: basrdísimo Fitness: 1\n",
            "Generación: 58 Frase: basrdísimo Fitness: 1\n",
            "Generación: 59 Frase: basrdísimo Fitness: 1\n",
            "Generación: 60 Frase: basrdísimo Fitness: 1\n",
            "Generación: 61 Frase: basrdísimo Fitness: 1\n",
            "Generación: 62 Frase: basrdísimo Fitness: 1\n",
            "Generación: 63 Frase: basrdísimo Fitness: 1\n",
            "Generación: 64 Frase: basadísimo Fitness: 0\n"
          ]
        }
      ]
    }
  ]
}